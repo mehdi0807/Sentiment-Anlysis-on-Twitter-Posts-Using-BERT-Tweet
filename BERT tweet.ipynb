{
 "cells": [
  {
   "cell_type": "markdown",
   "id": "67974a0f-0efe-4321-b232-6c56670f579d",
   "metadata": {
    "tags": []
   },
   "source": [
    "# To Vaccinate or Not to Vaccinate Challenge by Zindi"
   ]
  },
  {
   "cell_type": "markdown",
   "id": "a99044c2-7b8c-4dca-b26c-e7e89b1b4ba9",
   "metadata": {
    "tags": []
   },
   "source": [
    "## 1. Importing packages and data"
   ]
  },
  {
   "cell_type": "code",
   "execution_count": 1,
   "id": "43057e4d-9e95-48d7-91de-f6c72e79576e",
   "metadata": {},
   "outputs": [
    {
     "data": {
      "text/plain": [
       "RandomState(MT19937) at 0x1EF2D820340"
      ]
     },
     "execution_count": 1,
     "metadata": {},
     "output_type": "execute_result"
    }
   ],
   "source": [
    "import pandas as pd\n",
    "import numpy as np\n",
    "import matplotlib.pyplot as plt\n",
    "import seaborn as sns\n",
    "sns.set()\n",
    "\n",
    "from transformers import TFBertModel, BertTokenizer\n",
    "import tensorflow as tf\n",
    "from tensorflow.keras.layers import Input, Dropout, Dense\n",
    "from tensorflow.keras.models import Model\n",
    "\n",
    "from sklearn.metrics import auc\n",
    "from sklearn.metrics import roc_curve\n",
    "\n",
    "import warnings \n",
    "warnings.filterwarnings(\"ignore\")\n",
    "\n",
    "np.random.seed(42)\n",
    "np.random.RandomState(42)"
   ]
  },
  {
   "cell_type": "code",
   "execution_count": 2,
   "id": "cdfe7f68-f5c9-41ce-91b8-d05d76238d34",
   "metadata": {},
   "outputs": [],
   "source": [
    "train_set = pd.read_csv('Train.csv')\n",
    "test_set = pd.read_csv('Test.csv')\n",
    "submission = pd.read_csv('SampleSubmission.csv')"
   ]
  },
  {
   "cell_type": "markdown",
   "id": "ebe64e0f-40f2-42c6-a97d-ca64a442e896",
   "metadata": {
    "tags": []
   },
   "source": [
    "## 2. Exploratory Data Analysis"
   ]
  },
  {
   "cell_type": "code",
   "execution_count": 3,
   "id": "1ec9a27c-da48-4d61-a908-fdf70372ccc5",
   "metadata": {},
   "outputs": [
    {
     "data": {
      "text/html": [
       "<div>\n",
       "<style scoped>\n",
       "    .dataframe tbody tr th:only-of-type {\n",
       "        vertical-align: middle;\n",
       "    }\n",
       "\n",
       "    .dataframe tbody tr th {\n",
       "        vertical-align: top;\n",
       "    }\n",
       "\n",
       "    .dataframe thead th {\n",
       "        text-align: right;\n",
       "    }\n",
       "</style>\n",
       "<table border=\"1\" class=\"dataframe\">\n",
       "  <thead>\n",
       "    <tr style=\"text-align: right;\">\n",
       "      <th></th>\n",
       "      <th>tweet_id</th>\n",
       "      <th>safe_text</th>\n",
       "      <th>label</th>\n",
       "      <th>agreement</th>\n",
       "    </tr>\n",
       "  </thead>\n",
       "  <tbody>\n",
       "    <tr>\n",
       "      <th>6252</th>\n",
       "      <td>P80FMANE</td>\n",
       "      <td>&lt;user&gt; oh because the measles outbreak in Cali...</td>\n",
       "      <td>1.0</td>\n",
       "      <td>1.000000</td>\n",
       "    </tr>\n",
       "    <tr>\n",
       "      <th>4684</th>\n",
       "      <td>S71DRG7D</td>\n",
       "      <td>&lt;url&gt;\\nJon Stewart turns to zombies to explain...</td>\n",
       "      <td>0.0</td>\n",
       "      <td>1.000000</td>\n",
       "    </tr>\n",
       "    <tr>\n",
       "      <th>1731</th>\n",
       "      <td>J8NCS086</td>\n",
       "      <td>Dr. Art Caplan talks about ethical issue in gl...</td>\n",
       "      <td>1.0</td>\n",
       "      <td>1.000000</td>\n",
       "    </tr>\n",
       "    <tr>\n",
       "      <th>4742</th>\n",
       "      <td>M5V3TKEZ</td>\n",
       "      <td>Does your kid need vaccinations in Calif? &lt;use...</td>\n",
       "      <td>0.0</td>\n",
       "      <td>0.666667</td>\n",
       "    </tr>\n",
       "    <tr>\n",
       "      <th>4521</th>\n",
       "      <td>49H88U2J</td>\n",
       "      <td>I am now vaccinated for HPV, Hep A &amp;amp; B, an...</td>\n",
       "      <td>1.0</td>\n",
       "      <td>1.000000</td>\n",
       "    </tr>\n",
       "  </tbody>\n",
       "</table>\n",
       "</div>"
      ],
      "text/plain": [
       "      tweet_id                                          safe_text  label  \\\n",
       "6252  P80FMANE  <user> oh because the measles outbreak in Cali...    1.0   \n",
       "4684  S71DRG7D  <url>\\nJon Stewart turns to zombies to explain...    0.0   \n",
       "1731  J8NCS086  Dr. Art Caplan talks about ethical issue in gl...    1.0   \n",
       "4742  M5V3TKEZ  Does your kid need vaccinations in Calif? <use...    0.0   \n",
       "4521  49H88U2J  I am now vaccinated for HPV, Hep A &amp; B, an...    1.0   \n",
       "\n",
       "      agreement  \n",
       "6252   1.000000  \n",
       "4684   1.000000  \n",
       "1731   1.000000  \n",
       "4742   0.666667  \n",
       "4521   1.000000  "
      ]
     },
     "execution_count": 3,
     "metadata": {},
     "output_type": "execute_result"
    }
   ],
   "source": [
    "train_set.sample(5)"
   ]
  },
  {
   "cell_type": "code",
   "execution_count": 4,
   "id": "936a545e",
   "metadata": {},
   "outputs": [
    {
     "data": {
      "text/plain": [
       "10001"
      ]
     },
     "execution_count": 4,
     "metadata": {},
     "output_type": "execute_result"
    }
   ],
   "source": [
    "len(train_set)"
   ]
  },
  {
   "cell_type": "code",
   "execution_count": 5,
   "id": "021ecf34-160d-4903-92fa-e756709cb5c1",
   "metadata": {},
   "outputs": [
    {
     "data": {
      "text/plain": [
       " 0.000000    49.08\n",
       " 1.000000    40.53\n",
       "-1.000000    10.38\n",
       " 0.666667     0.01\n",
       "Name: label, dtype: float64"
      ]
     },
     "metadata": {},
     "output_type": "display_data"
    },
    {
     "data": {
      "image/png": "[encoded data removed]",
      "text/plain": [
       "<Figure size 640x480 with 1 Axes>"
      ]
     },
     "metadata": {},
     "output_type": "display_data"
    }
   ],
   "source": [
    "display(train_set[\"label\"].value_counts(normalize = True)*100)\n",
    "plt.hist(data=train_set, x=\"label\")\n",
    "plt.show()"
   ]
  },
  {
   "cell_type": "code",
   "execution_count": 6,
   "id": "1f4b636e",
   "metadata": {},
   "outputs": [],
   "source": [
    "for index in train_set.index:\n",
    "    if train_set.loc[index, 'label'] == 0.666667:\n",
    "        train_set.loc[index, 'label'] = 1"
   ]
  },
  {
   "cell_type": "code",
   "execution_count": 7,
   "id": "cadfe08f-ed94-4d27-85d9-f63a5ebad7ae",
   "metadata": {},
   "outputs": [
    {
     "data": {
      "text/html": [
       "<div>\n",
       "<style scoped>\n",
       "    .dataframe tbody tr th:only-of-type {\n",
       "        vertical-align: middle;\n",
       "    }\n",
       "\n",
       "    .dataframe tbody tr th {\n",
       "        vertical-align: top;\n",
       "    }\n",
       "\n",
       "    .dataframe thead th {\n",
       "        text-align: right;\n",
       "    }\n",
       "</style>\n",
       "<table border=\"1\" class=\"dataframe\">\n",
       "  <thead>\n",
       "    <tr style=\"text-align: right;\">\n",
       "      <th></th>\n",
       "      <th>tweet_id</th>\n",
       "      <th>safe_text</th>\n",
       "    </tr>\n",
       "  </thead>\n",
       "  <tbody>\n",
       "    <tr>\n",
       "      <th>2677</th>\n",
       "      <td>II69E4RK</td>\n",
       "      <td>&lt;user&gt; Right. Totally. And the record incidenc...</td>\n",
       "    </tr>\n",
       "    <tr>\n",
       "      <th>169</th>\n",
       "      <td>146W4L0B</td>\n",
       "      <td>So scared of ebola, I'm going for a vaccine 😳</td>\n",
       "    </tr>\n",
       "    <tr>\n",
       "      <th>2097</th>\n",
       "      <td>EK6LT2QV</td>\n",
       "      <td>“&lt;user&gt; Vaccines Save Lives: We welcome new re...</td>\n",
       "    </tr>\n",
       "    <tr>\n",
       "      <th>3296</th>\n",
       "      <td>MQP0H9DO</td>\n",
       "      <td>Better get your kids vaccinated so they don't ...</td>\n",
       "    </tr>\n",
       "    <tr>\n",
       "      <th>2300</th>\n",
       "      <td>G0VSFANS</td>\n",
       "      <td>Great info from WJSU news director and WJTVs &lt;...</td>\n",
       "    </tr>\n",
       "  </tbody>\n",
       "</table>\n",
       "</div>"
      ],
      "text/plain": [
       "      tweet_id                                          safe_text\n",
       "2677  II69E4RK  <user> Right. Totally. And the record incidenc...\n",
       "169   146W4L0B      So scared of ebola, I'm going for a vaccine 😳\n",
       "2097  EK6LT2QV  “<user> Vaccines Save Lives: We welcome new re...\n",
       "3296  MQP0H9DO  Better get your kids vaccinated so they don't ...\n",
       "2300  G0VSFANS  Great info from WJSU news director and WJTVs <..."
      ]
     },
     "execution_count": 7,
     "metadata": {},
     "output_type": "execute_result"
    }
   ],
   "source": [
    "test_set.sample(5)"
   ]
  },
  {
   "cell_type": "code",
   "execution_count": 8,
   "id": "f87ba0a6-c061-4b48-8e1c-3677c3c54583",
   "metadata": {},
   "outputs": [
    {
     "data": {
      "text/plain": [
       "tweet_id     0\n",
       "safe_text    0\n",
       "label        1\n",
       "agreement    2\n",
       "dtype: int64"
      ]
     },
     "execution_count": 8,
     "metadata": {},
     "output_type": "execute_result"
    }
   ],
   "source": [
    "train_set.isnull().sum()"
   ]
  },
  {
   "cell_type": "code",
   "execution_count": 9,
   "id": "30f3ac20",
   "metadata": {},
   "outputs": [],
   "source": [
    "train_set.dropna(inplace=True)"
   ]
  },
  {
   "cell_type": "markdown",
   "id": "b06604bf",
   "metadata": {
    "tags": []
   },
   "source": [
    "## 3. Preprocessing"
   ]
  },
  {
   "cell_type": "code",
   "execution_count": 10,
   "id": "887fe140",
   "metadata": {},
   "outputs": [
    {
     "name": "stderr",
     "output_type": "stream",
     "text": [
      "Some layers from the model checkpoint at bert-base-uncased were not used when initializing TFBertModel: ['mlm___cls', 'nsp___cls']\n",
      "- This IS expected if you are initializing TFBertModel from the checkpoint of a model trained on another task or with another architecture (e.g. initializing a BertForSequenceClassification model from a BertForPreTraining model).\n",
      "- This IS NOT expected if you are initializing TFBertModel from the checkpoint of a model that you expect to be exactly identical (initializing a BertForSequenceClassification model from a BertForSequenceClassification model).\n",
      "All the layers of TFBertModel were initialized from the model checkpoint at bert-base-uncased.\n",
      "If your task is similar to the task the model of the checkpoint was trained on, you can already use TFBertModel for predictions without further training.\n"
     ]
    }
   ],
   "source": [
    "tokenizer = BertTokenizer.from_pretrained('bert-base-uncased')\n",
    "model = TFBertModel.from_pretrained('bert-base-uncased')"
   ]
  },
  {
   "cell_type": "code",
   "execution_count": 11,
   "id": "38b3cc54",
   "metadata": {},
   "outputs": [],
   "source": [
    "def preprocess_tweet(tweet):\n",
    "    encoded_tweet = tokenizer.encode_plus(\n",
    "        tweet,\n",
    "        add_special_tokens=True,\n",
    "        max_length=128,\n",
    "        padding='max_length',\n",
    "        truncation=True,\n",
    "        return_attention_mask=True,\n",
    "        return_token_type_ids=False,\n",
    "        return_tensors='tf'\n",
    "    )\n",
    "    return encoded_tweet['input_ids'], encoded_tweet['attention_mask']"
   ]
  },
  {
   "cell_type": "code",
   "execution_count": 12,
   "id": "278b0c5d",
   "metadata": {},
   "outputs": [],
   "source": [
    "tweets = train_set['safe_text'].values[:7000]\n",
    "input_ids = []\n",
    "attention_masks = []\n",
    "for tweet in tweets:\n",
    "    encoded_tweet, attention_mask = preprocess_tweet(tweet)\n",
    "    input_ids.append(encoded_tweet)\n",
    "    attention_masks.append(attention_mask)\n",
    "input_ids_train = tf.concat(input_ids, axis=0)\n",
    "attention_masks_train = tf.concat(attention_masks, axis=0)"
   ]
  },
  {
   "cell_type": "markdown",
   "id": "242b5b10",
   "metadata": {
    "tags": []
   },
   "source": [
    "## 4. Fine-tune the BERTweet model with 70% of the data"
   ]
  },
  {
   "cell_type": "code",
   "execution_count": 13,
   "id": "8e6310e1",
   "metadata": {},
   "outputs": [],
   "source": [
    "input_ids = Input(shape=(128,), dtype=tf.int32)\n",
    "attention_masks = Input(shape=(128,), dtype=tf.int32)\n",
    "bert_output = model.bert(input_ids, attention_mask=attention_masks)[1]\n",
    "dropout = Dropout(0.1)(bert_output)\n",
    "dense = Dense(1, activation='tanh')(dropout)\n",
    "model = Model(inputs=[input_ids, attention_masks], outputs=dense)"
   ]
  },
  {
   "cell_type": "code",
   "execution_count": 14,
   "id": "8bf9f04c",
   "metadata": {},
   "outputs": [],
   "source": [
    "model.compile(optimizer=tf.keras.optimizers.Adam(learning_rate=2e-5), loss='MeanSquaredError', metrics=['RootMeanSquaredError'])"
   ]
  },
  {
   "cell_type": "code",
   "execution_count": 15,
   "id": "a9b14802",
   "metadata": {},
   "outputs": [],
   "source": [
    "labels = train_set['label'].values[:7000]"
   ]
  },
  {
   "cell_type": "code",
   "execution_count": 16,
   "id": "91c8236c",
   "metadata": {},
   "outputs": [
    {
     "name": "stdout",
     "output_type": "stream",
     "text": [
      "Epoch 1/3\n",
      "219/219 [==============================] - 2699s 12s/step - loss: 0.4186 - root_mean_squared_error: 0.6470\n",
      "Epoch 2/3\n",
      "219/219 [==============================] - 2059s 9s/step - loss: 0.3125 - root_mean_squared_error: 0.5590\n",
      "Epoch 3/3\n",
      "219/219 [==============================] - 2529s 12s/step - loss: 0.2108 - root_mean_squared_error: 0.4591\n"
     ]
    },
    {
     "data": {
      "text/plain": [
       "<keras.callbacks.History at 0x1ef38a52d90>"
      ]
     },
     "execution_count": 16,
     "metadata": {},
     "output_type": "execute_result"
    }
   ],
   "source": [
    "model.fit([input_ids_train, attention_masks_train], labels, epochs=3, batch_size=32)"
   ]
  },
  {
   "cell_type": "markdown",
   "id": "6efd8882",
   "metadata": {
    "tags": []
   },
   "source": [
    "## 5. Test the model on the rest of the train data"
   ]
  },
  {
   "cell_type": "code",
   "execution_count": 17,
   "id": "d1727d68",
   "metadata": {},
   "outputs": [],
   "source": [
    "tweets = train_set['safe_text'].values[7000:]\n",
    "input_ids = []\n",
    "attention_masks = []\n",
    "for tweet in tweets:\n",
    "    encoded_tweet, attention_mask = preprocess_tweet(tweet)\n",
    "    input_ids.append(encoded_tweet)\n",
    "    attention_masks.append(attention_mask)\n",
    "input_ids_test = tf.concat(input_ids, axis=0)\n",
    "attention_masks_test = tf.concat(attention_masks, axis=0)"
   ]
  },
  {
   "cell_type": "code",
   "execution_count": 18,
   "id": "4806b347",
   "metadata": {},
   "outputs": [
    {
     "name": "stdout",
     "output_type": "stream",
     "text": [
      "94/94 [==============================] - 294s 3s/step\n"
     ]
    }
   ],
   "source": [
    "y_pred = model.predict([input_ids_test, attention_masks_test])"
   ]
  },
  {
   "cell_type": "markdown",
   "id": "fa91f62b",
   "metadata": {
    "tags": []
   },
   "source": [
    "I used the root mean squared error (RMSE) as a metric to evaluate the model on the rest of the data"
   ]
  },
  {
   "cell_type": "code",
   "execution_count": 19,
   "id": "c57727d7",
   "metadata": {},
   "outputs": [],
   "source": [
    "from sklearn.metrics import mean_squared_error"
   ]
  },
  {
   "cell_type": "code",
   "execution_count": 20,
   "id": "c6ba35dd",
   "metadata": {},
   "outputs": [
    {
     "data": {
      "text/plain": [
       "0.5758828182513256"
      ]
     },
     "execution_count": 20,
     "metadata": {},
     "output_type": "execute_result"
    }
   ],
   "source": [
    "mean_squared_error(train_set['label'].values[7000:], [item for sublist in y_pred for item in sublist], squared=False)"
   ]
  },
  {
   "cell_type": "markdown",
   "id": "52e2a8b9",
   "metadata": {
    "tags": []
   },
   "source": [
    "## 6. Predict the Test set and filling the submission file"
   ]
  },
  {
   "cell_type": "code",
   "execution_count": 21,
   "id": "d85177dc",
   "metadata": {},
   "outputs": [
    {
     "data": {
      "text/plain": [
       "tweet_id     0\n",
       "safe_text    1\n",
       "dtype: int64"
      ]
     },
     "execution_count": 21,
     "metadata": {},
     "output_type": "execute_result"
    }
   ],
   "source": [
    "test_set.isnull().sum()"
   ]
  },
  {
   "cell_type": "code",
   "execution_count": 22,
   "id": "ca551e03",
   "metadata": {},
   "outputs": [],
   "source": [
    "test_set.dropna(inplace=True)"
   ]
  },
  {
   "cell_type": "code",
   "execution_count": 23,
   "id": "b3e84181",
   "metadata": {},
   "outputs": [],
   "source": [
    "tweets = test_set['safe_text'].values\n",
    "input_ids = []\n",
    "attention_masks = []\n",
    "for tweet in tweets:\n",
    "    encoded_tweet, attention_mask = preprocess_tweet(tweet)\n",
    "    input_ids.append(encoded_tweet)\n",
    "    attention_masks.append(attention_mask)\n",
    "input_ids_test = tf.concat(input_ids, axis=0)\n",
    "attention_masks_test = tf.concat(attention_masks, axis=0)"
   ]
  },
  {
   "cell_type": "code",
   "execution_count": 24,
   "id": "d99f1d2d",
   "metadata": {},
   "outputs": [
    {
     "name": "stdout",
     "output_type": "stream",
     "text": [
      "162/162 [==============================] - 504s 3s/step\n"
     ]
    }
   ],
   "source": [
    "y = model.predict([input_ids_test, attention_masks_test])"
   ]
  },
  {
   "cell_type": "code",
   "execution_count": 25,
   "id": "601323aa",
   "metadata": {},
   "outputs": [],
   "source": [
    "test_set['label'] = y\n",
    "for index in submission.index:\n",
    "    id_ = submission.loc[index, 'tweet_id']\n",
    "    if id_ in test_set['tweet_id'].values:\n",
    "        target = test_set[test_set['tweet_id']==id_]['label'].values[0]\n",
    "    submission.loc[index, 'label'] = float(target)"
   ]
  },
  {
   "cell_type": "code",
   "execution_count": 28,
   "id": "76ea630f",
   "metadata": {},
   "outputs": [
    {
     "data": {
      "text/plain": [
       "count    5177.000000\n",
       "mean        0.214010\n",
       "std         0.490853\n",
       "min        -0.994967\n",
       "25%        -0.092598\n",
       "50%         0.086811\n",
       "75%         0.666262\n",
       "max         0.997862\n",
       "Name: label, dtype: float64"
      ]
     },
     "execution_count": 28,
     "metadata": {},
     "output_type": "execute_result"
    }
   ],
   "source": [
    "submission['label'].describe()"
   ]
  },
  {
   "cell_type": "code",
   "execution_count": 26,
   "id": "ceea03c7",
   "metadata": {},
   "outputs": [],
   "source": [
    "submission.to_csv('first_submission_bert4.csv', index=False)"
   ]
  },
  {
   "cell_type": "markdown",
   "id": "0a3843af",
   "metadata": {},
   "source": [
    "I had a score of `0.561537011` on `Zindi`"
   ]
  }
 ],
 "metadata": {
  "kernelspec": {
   "display_name": "Python 3 (ipykernel)",
   "language": "python",
   "name": "python3"
  },
  "language_info": {
   "codemirror_mode": {
    "name": "ipython",
    "version": 3
   },
   "file_extension": ".py",
   "mimetype": "text/x-python",
   "name": "python",
   "nbconvert_exporter": "python",
   "pygments_lexer": "ipython3",
   "version": "3.9.13"
  }
 },
 "nbformat": 4,
 "nbformat_minor": 5
}
